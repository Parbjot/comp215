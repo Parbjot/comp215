{
  "nbformat": 4,
  "nbformat_minor": 0,
  "metadata": {
    "colab": {
      "provenance": [],
      "include_colab_link": true
    },
    "kernelspec": {
      "name": "python3",
      "display_name": "Python 3"
    },
    "language_info": {
      "name": "python"
    }
  },
  "cells": [
    {
      "cell_type": "markdown",
      "metadata": {
        "id": "view-in-github",
        "colab_type": "text"
      },
      "source": [
        "<a href=\"https://colab.research.google.com/github/Parbjot/comp215/blob/main/ProjectComp1.ipynb\" target=\"_parent\"><img src=\"https://colab.research.google.com/assets/colab-badge.svg\" alt=\"Open In Colab\"/></a>"
      ]
    },
    {
      "cell_type": "markdown",
      "source": [],
      "metadata": {
        "id": "uoYVyVTS15tF"
      }
    },
    {
      "cell_type": "markdown",
      "source": [],
      "metadata": {
        "id": "MDd6JsgE158J"
      }
    },
    {
      "cell_type": "markdown",
      "source": [
        "Name = Parbjot Singh , Arshpreet Singh Virk"
      ],
      "metadata": {
        "id": "dLqqlDrK1ZCv"
      }
    },
    {
      "cell_type": "code",
      "execution_count": null,
      "metadata": {
        "id": "Ox6YDGnpqghR"
      },
      "outputs": [],
      "source": [
        "import numpy as np\n",
        "import random\n",
        "import matplotlib\n",
        "import matplotlib.pyplot as plt\n",
        "import re\n",
        "from matplotlib import animation\n",
        "import networkx as nx\n",
        "from pprint import pprint\n"
      ]
    },
    {
      "cell_type": "code",
      "source": [
        "# Qualitative colour map with value 0 set to white\n",
        "# tab20_mod = matplotlib.colormaps['tab20']\n",
        "# tab20_mod.colors = ((1,1,1,1), *tab20_mod.colors[1:])\n",
        "tab20_mod = plt.cm.get_cmap('tab20', 20)  # Get tab20 colormap with 20 discrete colors\n",
        "new_colors = np.array(tab20_mod.colors)\n",
        "new_colors[0] = [1, 1, 1, 1]\n",
        "tab20_mod = matplotlib.colors.ListedColormap(new_colors)\n",
        "\n",
        "def plot_2d_array(array, axes=None, title='', cmap=tab20_mod, **options):\n",
        "    \"\"\"\n",
        "    Plot the 2D array as an image on the given axes  1's will be dark blue, 0's will be light blue.\n",
        "\n",
        "    :param axes: the axes to plot on, or None to use the `plt.gca()` (current axes)\n",
        "    :param options: keyword arguments passed directly to `plt.imshow()`\n",
        "           see https://matplotlib.org/stable/api/_as_gen/matplotlib.axes.Axes.imshow.html\n",
        "    \"\"\"\n",
        "    axes = axes or plt.gca()  # If not axes are provided, draw on current axes\n",
        "    axes.set_title(title)\n",
        "    # Turn off axes labels and tick marks\n",
        "    axes.tick_params(axis='both', which='both', bottom=False, top=False, left=False, right=False ,\n",
        "                     labelbottom=False, labeltop=False, labelleft=False, labelright=False,)\n",
        "    # Defaults for displaying a \"matrix\" with hard-pixel boundaries and (0,0) at top-left\n",
        "    options = {**dict(interpolation='nearest', origin='upper'), **options}\n",
        "    axes.imshow(array, cmap=cmap, **options)"
      ],
      "metadata": {
        "colab": {
          "base_uri": "https://localhost:8080/"
        },
        "id": "VW9dLTe4xp2N",
        "outputId": "1db655dc-e44e-46e8-8e17-6f111fe023a6"
      },
      "execution_count": null,
      "outputs": [
        {
          "output_type": "stream",
          "name": "stderr",
          "text": [
            "<ipython-input-2-07d1b7de8b22>:4: MatplotlibDeprecationWarning: The get_cmap function was deprecated in Matplotlib 3.7 and will be removed in 3.11. Use ``matplotlib.colormaps[name]`` or ``matplotlib.colormaps.get_cmap()`` or ``pyplot.get_cmap()`` instead.\n",
            "  tab20_mod = plt.cm.get_cmap('tab20', 20)  # Get tab20 colormap with 20 discrete colors\n"
          ]
        }
      ]
    },
    {
      "cell_type": "code",
      "source": [
        "class Animation2D:\n",
        "    \"\"\"\n",
        "      Animates any 2D model with a step() method and a draw() method, using matplotlib\n",
        "      model.step() should take no parameters - just step the model forward one step.\n",
        "      model.draw() should take 2 parameters, the matpltolib axes to draw on and an integer step number\n",
        "\n",
        "      See https://www.allendowney.com/blog/2019/07/25/matplotlib-animation-in-jupyter/\n",
        "          for a discussion of the pros and cons of various animation techniques in jupyter notebooks\n",
        "    \"\"\"\n",
        "\n",
        "    def __init__(self, model, frames=50, steps_per_frame=1, figsize=(8, 8)):\n",
        "        \"\"\"\n",
        "        :param model: the simulation object to animate, with step() and draw(axes, step) methods\n",
        "        :param frames: number of animation frames to generate\n",
        "        \"\"\"\n",
        "        self.model = model\n",
        "        self.frames = frames\n",
        "        self.steps_per_frame = steps_per_frame\n",
        "        self.fig, self.ax = plt.subplots(figsize=figsize)\n",
        "\n",
        "    def animation_step(self, step):\n",
        "        \"\"\" Step the model forward and draw the plot \"\"\"\n",
        "        if step > 0:\n",
        "            for _ in range(self.steps_per_frame):\n",
        "                self.model.step()\n",
        "        self.model.draw(self.ax, step=step * self.steps_per_frame)\n",
        "\n",
        "    def show(self):\n",
        "        \"\"\" return the matplotlib animation object, ready for display \"\"\"\n",
        "        anim = animation.FuncAnimation(self.fig, self.animation_step, frames=self.frames)\n",
        "        plt.close()  # this ensures the last frame is not shown as a separate plot\n",
        "        return anim\n",
        "\n",
        "    def animate(self, interval=None):\n",
        "        \"\"\" Animate the model simulation directly in the notebook display block \"\"\"\n",
        "        from IPython.display import clear_output\n",
        "        try:\n",
        "            for i in range(self.frames):\n",
        "                clear_output(wait=True)  # clear the IPython display\n",
        "                self.ax.clear()  # clear old image from the axes (fixes a performance issue)\n",
        "                plt.figure(self.fig)  # add the figure back to pyplot ** sigh **\n",
        "                self.animation_step(i)\n",
        "                plt.show()  # show the current animation frame (pyplot then closes and throws away figure ** sigh **)\n",
        "                if interval:\n",
        "                    time.sleep(interval)\n",
        "        except KeyboardInterrupt:\n",
        "            pass"
      ],
      "metadata": {
        "id": "_K4GN3Uqxplf"
      },
      "execution_count": null,
      "outputs": []
    },
    {
      "cell_type": "code",
      "source": [
        "\n",
        "class India:\n",
        "    # States for different conditions in the population model\n",
        "    Rich_alive_majority = 0\n",
        "    Rich_alive_minority = 4\n",
        "    Rich_dead_majority = 1\n",
        "    Rich_dead_minority = 5\n",
        "    Poor_alive = 2\n",
        "    Poor_Dead = 3\n",
        "\n",
        "    def __init__(self, grid_size):\n",
        "        \"\"\"Initialize the population grid.\"\"\"\n",
        "        self.grid_size = grid_size\n",
        "        self.population_grid = np.zeros((grid_size, grid_size), dtype=int)\n",
        "        self.setup_initial_population()\n",
        "        print(\"Initial Population Grid:\")\n",
        "        print(self.population_grid)\n",
        "\n",
        "\n",
        "    def setup_initial_population(self):\n",
        "        shape_param = 2.0\n",
        "        min_wealth = 10\n",
        "\n",
        "        self.wealth = (np.random.pareto(shape_param, (self.grid_size, self.grid_size)) + 1) * min_wealth\n",
        "        self.wealth = np.clip(self.wealth, min_wealth, 5 * min_wealth)\n",
        "\n",
        "\n",
        "        threshold = np.percentile(self.wealth, 50)\n",
        "\n",
        "\n",
        "        self.population_grid = np.zeros((self.grid_size, self.grid_size), dtype=int)\n",
        "\n",
        "        for i in range(self.grid_size):\n",
        "            for j in range(self.grid_size):\n",
        "                if self.wealth[i, j] > threshold:  # Rich\n",
        "                    if random.random() < 0.7:  # 70% chance rich are alive\n",
        "                        self.population_grid[i, j] = self.Rich_alive_majority if i < self.grid_size // 2 else self.Rich_alive_minority\n",
        "                    else:\n",
        "                        self.population_grid[i, j] = self.Rich_dead_majority if i < self.grid_size // 2 else self.Rich_dead_minority\n",
        "                else:  # Poor\n",
        "                    if random.random() < 0.7:  # 70% chance poor are alive\n",
        "                        self.population_grid[i, j] = self.Poor_alive\n",
        "                    else:\n",
        "                        self.population_grid[i, j] = self.Poor_Dead\n",
        "\n",
        "\n",
        "        unique, counts = np.unique(self.population_grid, return_counts=True)\n",
        "        print(\"Initial Population Distribution:\", dict(zip(unique, counts)))\n",
        "\n",
        "\n",
        "\n",
        "    def survival_probability(self, wealth_status, region_type):\n",
        "        \"\"\"Returns a survival probability based on wealth status and region type.\"\"\"\n",
        "        if region_type == 'rural':\n",
        "            if wealth_status == self.Poor_alive:\n",
        "                return random.random() < 0.75  # Poor have higher survival in rural\n",
        "            else:\n",
        "                return random.random() < 0.5  # Rich have lower survival in rural\n",
        "        else:\n",
        "            if wealth_status == self.Poor_alive:\n",
        "                return random.random() < 0.45  # Poor have lower survival in urban\n",
        "            else:\n",
        "                return random.random() < 0.65  # Rich have higher survival in urban\n",
        "\n",
        "    def birth_probability(self, wealth_status, region_type):\n",
        "        \"\"\"Returns birth probability based on wealth and region type.\"\"\"\n",
        "        if region_type == 'rural':\n",
        "            if wealth_status == self.Poor_alive:\n",
        "                return random.random() < 0.03  # Higher birth rate in rural poor\n",
        "            else:\n",
        "                return random.random() < 0.01  # Lower birth rate for rich\n",
        "        else:\n",
        "            if wealth_status == self.Poor_alive:\n",
        "                return random.random() < 0.02  # Lower birth rate in urban poor\n",
        "            else:\n",
        "                return random.random() < 0.01  # Very low birth rate for rich\n",
        "\n",
        "    def update_population(self):\n",
        "        \"\"\"Update the population grid with survival and birth probabilities.\"\"\"\n",
        "        new_grid = self.population_grid.copy()\n",
        "\n",
        "        for i in range(self.grid_size):\n",
        "            for j in range(self.grid_size):\n",
        "\n",
        "                region_type = 'urban' if i < self.grid_size // 2 else 'rural'\n",
        "                wealth_status = self.population_grid[i, j]\n",
        "\n",
        "                # Check survival\n",
        "                if wealth_status != self.Poor_dead and wealth_status != self.Rich_dead_majority and wealth_status != self.Rich_dead_minority:\n",
        "                    survives = self.survival_probability(wealth_status, region_type)\n",
        "                    if not survives:\n",
        "                        if wealth_status == self.Rich_alive_majority or wealth_status == self.Rich_alive_minority:\n",
        "                            new_grid[i, j] = self.Rich_dead_majority if region_type == 'urban' else self.Rich_dead_minority\n",
        "                        else:\n",
        "                            new_grid[i, j] = self.Poor_Dead\n",
        "\n",
        "                # Check for births\n",
        "                if wealth_status == self.Poor_alive or wealth_status == self.Rich_alive_majority or wealth_status == self.Rich_alive_minority:\n",
        "                    gives_birth = self.birth_probability(wealth_status, region_type)\n",
        "                    if gives_birth:\n",
        "                        if region_type == 'urban':\n",
        "                            new_grid[i, j] = self.Poor_alive if random.random() < 0.5 else self.Rich_alive_majority\n",
        "                        else:\n",
        "                            new_grid[i, j] = self.Poor_alive\n",
        "\n",
        "        self.population_grid = new_grid\n",
        "        self.count_population()\n",
        "\n",
        "    def plot_population(self):\n",
        "        \"\"\"Visualize the population grid using custom colormap.\"\"\"\n",
        "        plot_2d_array(self.population_grid, title=\"Population Grid\", cmap=tab20_mod)\n",
        "\n",
        "    def run_simulation(self, generations=10):\n",
        "        \"\"\"Run the simulation for a given number of generations.\"\"\"\n",
        "        for generation in range(generations):\n",
        "            self.update_population()\n",
        "            self.plot_population()\n",
        "            print(f\"Generation {generation + 1} completed.\")\n",
        "    def Animmate(self):\n",
        "        Animation2D(self.population_grid)\n",
        "\n",
        "\n",
        "    def setup_economic_network(self, connectivity):\n",
        "        for node in self.G.nodes():\n",
        "            x, y = node\n",
        "            neighbors = [(x + dx, y + dy) for dx, dy in\n",
        "                         [(-1, 0), (1, 0), (0, -1), (0, 1)]\n",
        "                         if 0 <= x + dx < self.grid_size and 0 <= y + dy < self.grid_size]\n",
        "            self.G.add_edges_from([(node, neighbor) for neighbor in neighbors[:connectivity]])\n",
        "\n",
        "    def economic_exchange(self):\n",
        "        for node in self.G.nodes():\n",
        "            x, y = node\n",
        "            if self.population_grid[x, y] == 1:  # If rich\n",
        "                neighbors = list(self.G.neighbors(node))\n",
        "                if neighbors:\n",
        "                    target = random.choice(neighbors)\n",
        "                    tx, ty = target\n",
        "                    self.wealth[x, y] -= 1\n",
        "                    self.wealth[tx, ty] += 1\n",
        "\n",
        "    def step(self):\n",
        "        self.economic_exchange()\n",
        "        self.population_grid = np.where(self.wealth > 50, 1, 0)  # Wealth threshold for richness\n",
        "\n",
        "    def draw(self, ax, step):\n",
        "        ax.clear()\n",
        "        ax.set_title(f'Step {step}')\n",
        "        ax.imshow(self.population_grid, cmap='coolwarm')\n",
        "\n",
        "    def animate(self, frames=50):\n",
        "      fig, ax = plt.subplots()\n",
        "      self.anim = animation.FuncAnimation(fig, lambda i: [self.step(), self.draw(ax, i)], frames=frames)\n",
        "      plt.show()\n",
        "\n",
        "    def print_population_stats(self):\n",
        "      \"\"\"Print nicely formatted population stats.\"\"\"\n",
        "      unique, counts = np.unique(self.population_grid, return_counts=True)\n",
        "      population_counts = dict(zip([int(k) for k in unique], [int(v) for v in counts]))  # Convert from np.int64 to int\n",
        "\n",
        "      label_map = {\n",
        "          self.Rich_alive_majority: \"Rich Alive (Urban)\",\n",
        "          self.Rich_dead_majority: \"Rich Dead (Urban)\",\n",
        "          self.Rich_alive_minority: \"Rich Alive (Rural)\",\n",
        "          self.Rich_dead_minority: \"Rich Dead (Rural)\",\n",
        "          self.Poor_alive: \"Poor Alive\",\n",
        "          self.Poor_Dead: \"Poor Dead\"\n",
        "      }\n",
        "\n",
        "      formatted_stats = {label_map.get(k, f\"Unknown ({k})\"): v for k, v in population_counts.items()}\n",
        "\n",
        "\n",
        "      total_alive = sum([v for k, v in population_counts.items() if k in [self.Rich_alive_majority, self.Rich_alive_minority, self.Poor_alive]])\n",
        "      total_dead = sum([v for k, v in population_counts.items() if k in [self.Rich_dead_majority, self.Rich_dead_minority, self.Poor_Dead]])\n",
        "      total_rich = sum([v for k, v in population_counts.items() if k in [self.Rich_alive_majority, self.Rich_alive_minority, self.Rich_dead_majority, self.Rich_dead_minority]])\n",
        "      total_poor = sum([v for k, v in population_counts.items() if k in [self.Poor_alive, self.Poor_Dead]])\n",
        "\n",
        "      print(\"\\n📊 Population Statistics (Formatted):\")\n",
        "      pprint(formatted_stats)\n",
        "      print(f\"\\n Totals:\\n  Alive: {total_alive}\\n  Dead: {total_dead}\\n  Rich: {total_rich}\\n  Poor: {total_poor}\")\n",
        "\n"
      ],
      "metadata": {
        "id": "bCty4zaE0AZ2"
      },
      "execution_count": null,
      "outputs": []
    },
    {
      "cell_type": "code",
      "source": [
        "\n",
        "\n",
        "\n",
        "india_sim = India(grid_size=100)\n",
        "\n",
        "india_sim.print_population_stats()\n",
        "\n",
        "print(\"Population Grid Sample:\")\n",
        "print(india_sim.population_grid)\n",
        "\n",
        "\n",
        "india_sim.plot_population()\n",
        "\n",
        "\n",
        "anim = Animation2D(india_sim, frames=50)\n",
        "anim.show()\n"
      ],
      "metadata": {
        "colab": {
          "base_uri": "https://localhost:8080/",
          "height": 992
        },
        "id": "3JF0qX9W2Gzf",
        "outputId": "dcc20857-3811-4701-d88e-3049e4e9984d"
      },
      "execution_count": null,
      "outputs": [
        {
          "output_type": "stream",
          "name": "stdout",
          "text": [
            "Initial Population Distribution: {np.int64(0): np.int64(1783), np.int64(1): np.int64(706), np.int64(2): np.int64(3502), np.int64(3): np.int64(1498), np.int64(4): np.int64(1763), np.int64(5): np.int64(748)}\n",
            "Initial Population Grid:\n",
            "[[0 2 0 ... 0 0 1]\n",
            " [2 2 3 ... 0 0 2]\n",
            " [2 3 0 ... 2 3 3]\n",
            " ...\n",
            " [2 2 3 ... 3 4 2]\n",
            " [4 5 2 ... 5 2 5]\n",
            " [4 5 2 ... 5 2 3]]\n",
            "\n",
            "📊 Population Statistics (Formatted):\n",
            "{'Poor Alive': 3502,\n",
            " 'Poor Dead': 1498,\n",
            " 'Rich Alive (Rural)': 1763,\n",
            " 'Rich Alive (Urban)': 1783,\n",
            " 'Rich Dead (Rural)': 748,\n",
            " 'Rich Dead (Urban)': 706}\n",
            "\n",
            " Totals:\n",
            "  Alive: 7048\n",
            "  Dead: 2952\n",
            "  Rich: 5000\n",
            "  Poor: 5000\n",
            "Population Grid Sample:\n",
            "[[0 2 0 ... 0 0 1]\n",
            " [2 2 3 ... 0 0 2]\n",
            " [2 3 0 ... 2 3 3]\n",
            " ...\n",
            " [2 2 3 ... 3 4 2]\n",
            " [4 5 2 ... 5 2 5]\n",
            " [4 5 2 ... 5 2 3]]\n"
          ]
        },
        {
          "output_type": "execute_result",
          "data": {
            "text/plain": [
              "<matplotlib.animation.FuncAnimation at 0x794e96fa6690>"
            ]
          },
          "metadata": {},
          "execution_count": 14
        },
        {
          "output_type": "display_data",
          "data": {
            "text/plain": [
              "<Figure size 640x480 with 1 Axes>"
            ],
            "image/png": "[encoded data removed]"
          },
          "metadata": {}
        }
      ]
    }
  ]
}